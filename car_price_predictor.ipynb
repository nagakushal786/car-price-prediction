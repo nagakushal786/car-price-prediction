{
 "cells": [
  {
   "cell_type": "markdown",
   "id": "fdcd1fab",
   "metadata": {},
   "source": [
    "## Car Price Prediction"
   ]
  },
  {
   "cell_type": "code",
   "execution_count": null,
   "id": "da09791b",
   "metadata": {},
   "outputs": [],
   "source": [
    "import numpy as np\n",
    "import pandas as pd\n",
    "import matplotlib.pyplot as plt\n",
    "import seaborn as sns\n",
    "from sklearn.model_selection import train_test_split\n",
    "from sklearn.linear_model import LinearRegression\n",
    "from sklearn.linear_model import Lasso\n",
    "from sklearn import metrics"
   ]
  },
  {
   "cell_type": "markdown",
   "id": "7d5dd9e8",
   "metadata": {},
   "source": [
    "### Data Pre-Processing"
   ]
  },
  {
   "cell_type": "code",
   "execution_count": null,
   "id": "87651798",
   "metadata": {},
   "outputs": [],
   "source": [
    "car_df=pd.read_csv('car_data.csv')"
   ]
  },
  {
   "cell_type": "code",
   "execution_count": null,
   "id": "50b8cd04",
   "metadata": {},
   "outputs": [],
   "source": [
    "car_df.head()"
   ]
  },
  {
   "cell_type": "code",
   "execution_count": null,
   "id": "9648ccee",
   "metadata": {},
   "outputs": [],
   "source": [
    "car_df.shape"
   ]
  },
  {
   "cell_type": "code",
   "execution_count": null,
   "id": "cf7c754b",
   "metadata": {},
   "outputs": [],
   "source": [
    "car_df.info()"
   ]
  },
  {
   "cell_type": "code",
   "execution_count": null,
   "id": "04fc40fb",
   "metadata": {},
   "outputs": [],
   "source": [
    "car_df.isnull().sum()"
   ]
  },
  {
   "cell_type": "code",
   "execution_count": null,
   "id": "34af99b5",
   "metadata": {},
   "outputs": [],
   "source": [
    "car_df.duplicated().sum()"
   ]
  },
  {
   "cell_type": "code",
   "execution_count": null,
   "id": "0cbb2dda",
   "metadata": {},
   "outputs": [],
   "source": [
    "car_df['Fuel_Type'].value_counts()"
   ]
  },
  {
   "cell_type": "code",
   "execution_count": null,
   "id": "7f68bbd2",
   "metadata": {},
   "outputs": [],
   "source": [
    "car_df['Seller_Type'].value_counts()"
   ]
  },
  {
   "cell_type": "code",
   "execution_count": null,
   "id": "f6f9d667",
   "metadata": {},
   "outputs": [],
   "source": [
    "car_df['Transmission'].value_counts()"
   ]
  },
  {
   "cell_type": "markdown",
   "id": "b754fad3",
   "metadata": {},
   "source": [
    "#### Converting Categorical to One-hot Encodings"
   ]
  },
  {
   "cell_type": "code",
   "execution_count": null,
   "id": "0f2d637c",
   "metadata": {},
   "outputs": [],
   "source": [
    "car_df.replace({'Fuel_Type': {'Petrol': 0, 'Diesel': 1, 'CNG': 2}}, inplace=True)\n",
    "car_df.replace({'Seller_Type': {'Dealer': 0, 'Individual': 1}}, inplace=True)\n",
    "car_df.replace({'Transmission': {'Manual': 0, 'Automatic': 1}}, inplace=True)"
   ]
  },
  {
   "cell_type": "code",
   "execution_count": null,
   "id": "edcbfcc7",
   "metadata": {},
   "outputs": [],
   "source": [
    "car_df.head()"
   ]
  },
  {
   "cell_type": "markdown",
   "id": "d1bc8459",
   "metadata": {},
   "source": [
    "### Splitting Data into Training and Testing"
   ]
  },
  {
   "cell_type": "code",
   "execution_count": null,
   "id": "189c7d85",
   "metadata": {},
   "outputs": [],
   "source": [
    "x=car_df.drop(columns=['Car_Name', 'Selling_Price'], axis=1)\n",
    "y=car_df['Selling_Price']"
   ]
  },
  {
   "cell_type": "code",
   "execution_count": null,
   "id": "34349dc3",
   "metadata": {},
   "outputs": [],
   "source": [
    "x.shape"
   ]
  },
  {
   "cell_type": "code",
   "execution_count": null,
   "id": "14dd1669",
   "metadata": {},
   "outputs": [],
   "source": [
    "y.shape"
   ]
  },
  {
   "cell_type": "code",
   "execution_count": null,
   "id": "d80db892",
   "metadata": {},
   "outputs": [],
   "source": [
    "x_train, x_test, y_train, y_test=train_test_split(\n",
    "    x, y,\n",
    "    test_size=0.1,\n",
    "    random_state=2\n",
    ")"
   ]
  },
  {
   "cell_type": "code",
   "execution_count": null,
   "id": "59f08c38",
   "metadata": {},
   "outputs": [],
   "source": [
    "x_train.shape"
   ]
  },
  {
   "cell_type": "code",
   "execution_count": null,
   "id": "532e67c9",
   "metadata": {},
   "outputs": [],
   "source": [
    "x_test.shape"
   ]
  },
  {
   "cell_type": "code",
   "execution_count": null,
   "id": "644d80a5",
   "metadata": {},
   "outputs": [],
   "source": [
    "y_train.shape"
   ]
  },
  {
   "cell_type": "code",
   "execution_count": null,
   "id": "9ed86dc8",
   "metadata": {},
   "outputs": [],
   "source": [
    "y_test.shape"
   ]
  },
  {
   "cell_type": "markdown",
   "id": "ff902bf8",
   "metadata": {},
   "source": [
    "### Model Training with Linear Regression"
   ]
  },
  {
   "cell_type": "code",
   "execution_count": null,
   "id": "f26800e4",
   "metadata": {},
   "outputs": [],
   "source": [
    "lin_reg_model=LinearRegression()"
   ]
  },
  {
   "cell_type": "code",
   "execution_count": null,
   "id": "f075b5ec",
   "metadata": {},
   "outputs": [],
   "source": [
    "lin_reg_model.fit(x_train, y_train)"
   ]
  },
  {
   "cell_type": "markdown",
   "id": "4ad61651",
   "metadata": {},
   "source": [
    "### Model Evaluation for Linear Regression"
   ]
  },
  {
   "cell_type": "code",
   "execution_count": null,
   "id": "2e84ce3c",
   "metadata": {},
   "outputs": [],
   "source": [
    "target_price_prediction=lin_reg_model.predict(x_train)"
   ]
  },
  {
   "cell_type": "code",
   "execution_count": null,
   "id": "54d7e293",
   "metadata": {},
   "outputs": [],
   "source": [
    "error_score=metrics.r2_score(y_train, target_price_prediction)\n",
    "print(error_score)"
   ]
  },
  {
   "cell_type": "code",
   "execution_count": null,
   "id": "af683077",
   "metadata": {},
   "outputs": [],
   "source": [
    "plt.scatter(y_train, target_price_prediction)\n",
    "plt.xlabel('Actual Price')\n",
    "plt.ylabel('Predicted Price')\n",
    "plt.show()"
   ]
  },
  {
   "cell_type": "code",
   "execution_count": null,
   "id": "16ccd810",
   "metadata": {},
   "outputs": [],
   "source": [
    "test_data_prediction=lin_reg_model.predict(x_test)"
   ]
  },
  {
   "cell_type": "code",
   "execution_count": null,
   "id": "5ebf65a2",
   "metadata": {},
   "outputs": [],
   "source": [
    "test_error_score=metrics.r2_score(y_test, test_data_prediction)\n",
    "print(test_error_score)"
   ]
  },
  {
   "cell_type": "code",
   "execution_count": null,
   "id": "7e8ef55a",
   "metadata": {},
   "outputs": [],
   "source": [
    "plt.scatter(y_test, test_data_prediction)\n",
    "plt.xlabel('Actual Test Price')\n",
    "plt.ylabel('Predicted Test Price')\n",
    "plt.show()"
   ]
  },
  {
   "cell_type": "markdown",
   "id": "4a4383fb",
   "metadata": {},
   "source": [
    "### Model Training with Lasso"
   ]
  },
  {
   "cell_type": "code",
   "execution_count": null,
   "id": "7406071c",
   "metadata": {},
   "outputs": [],
   "source": [
    "lasso_reg_model=Lasso()"
   ]
  },
  {
   "cell_type": "code",
   "execution_count": null,
   "id": "dc9265ae",
   "metadata": {},
   "outputs": [],
   "source": [
    "lasso_reg_model.fit(x_train, y_train)"
   ]
  },
  {
   "cell_type": "markdown",
   "id": "79384243",
   "metadata": {},
   "source": [
    "### Model Evaluation with Lasso"
   ]
  },
  {
   "cell_type": "code",
   "execution_count": null,
   "id": "40714f95",
   "metadata": {},
   "outputs": [],
   "source": [
    "train_data_prediction=lasso_reg_model.predict(x_train)"
   ]
  },
  {
   "cell_type": "code",
   "execution_count": null,
   "id": "30916794",
   "metadata": {},
   "outputs": [],
   "source": [
    "train_error_score=metrics.r2_score(y_train, train_data_prediction)\n",
    "print(train_error_score)"
   ]
  },
  {
   "cell_type": "code",
   "execution_count": null,
   "id": "3a412bce",
   "metadata": {},
   "outputs": [],
   "source": [
    "plt.scatter(y_train, train_data_prediction)\n",
    "plt.xlabel('Actual Training Price')\n",
    "plt.ylabel('Predicted Training Price')\n",
    "plt.show()"
   ]
  },
  {
   "cell_type": "code",
   "execution_count": null,
   "id": "d403ffd9",
   "metadata": {},
   "outputs": [],
   "source": [
    "test_data_prediction=lasso_reg_model.predict(x_test)"
   ]
  },
  {
   "cell_type": "code",
   "execution_count": null,
   "id": "d3ad29bf",
   "metadata": {},
   "outputs": [],
   "source": [
    "test_error_score=metrics.r2_score(y_test, test_data_prediction)\n",
    "print(test_error_score)"
   ]
  },
  {
   "cell_type": "code",
   "execution_count": null,
   "id": "efe0898c",
   "metadata": {},
   "outputs": [],
   "source": [
    "plt.scatter(y_test, test_data_prediction)\n",
    "plt.xlabel('Actual Test Price')\n",
    "plt.ylabel('Predicted Test Price')\n",
    "plt.show()"
   ]
  }
 ],
 "metadata": {
  "kernelspec": {
   "display_name": "Python 3",
   "language": "python",
   "name": "python3"
  },
  "language_info": {
   "codemirror_mode": {
    "name": "ipython",
    "version": 3
   },
   "file_extension": ".py",
   "mimetype": "text/x-python",
   "name": "python",
   "nbconvert_exporter": "python",
   "pygments_lexer": "ipython3",
   "version": "3.12.10"
  }
 },
 "nbformat": 4,
 "nbformat_minor": 5
}
